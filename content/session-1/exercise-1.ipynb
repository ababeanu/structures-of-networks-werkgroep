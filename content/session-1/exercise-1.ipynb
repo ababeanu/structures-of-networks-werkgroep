{
  "cells": [
    {
      "cell_type": "markdown",
      "metadata": {},
      "source": [
        "# Example equation  
        $$ E = m c^2$$"
      ]
    }
  ]
}
