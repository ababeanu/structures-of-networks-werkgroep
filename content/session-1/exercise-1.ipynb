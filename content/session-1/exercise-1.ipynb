{
  "metadata": {
    "kernelspec": {
      "display_name": "Python (Pyodide)",
      "language": "python",
      "name": "python"
    },
    "language_info": {
      "codemirror_mode": {
        "name": "python",
        "version": 3
      },
      "file_extension": ".py",
      "mimetype": "text/x-python",
      "name": "python",
      "nbconvert_exporter": "python",
      "pygments_lexer": "ipython3",
      "version": "3.8"
    }
  },
  "nbformat_minor": 4,
  "nbformat": 4,
  "cells": [
    {
      "cell_type": "markdown",
      "source": "# Example equation:\n$$L = p N$$\n",
      "metadata": {}
    },
    {
      "cell_type": "markdown",
      "source": "# Example code:\n",
      "metadata": {}
    },
    {
      "cell_type": "code",
      "source": "import networkx as nx\nG1 = nx.erdos_renyi_graph(10, 0.4, 2, False)\nG2 = nx.erdos_renyi_graph(20, 0.1, 4, False)\nG = nx.union(G1, G2, rename=(\"1\", \"2\"))\nG = nx.convert_node_labels_to_integers(G)\n\n",
      "metadata": {
        "trusted": true
      },
      "outputs": [],
      "execution_count": 6
    },
    {
      "cell_type": "code",
      "source": "nx.draw(G)\nlist(G.nodes)\n",
      "metadata": {
        "trusted": true
      },
      "outputs": [],
      "execution_count": 8
    }
  ]
}