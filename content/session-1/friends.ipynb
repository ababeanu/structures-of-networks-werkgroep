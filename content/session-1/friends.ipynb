{
  "metadata": {
    "kernelspec": {
      "name": "python",
      "display_name": "Python (Pyodide)",
      "language": "python"
    },
    "language_info": {
      "codemirror_mode": {
        "name": "python",
        "version": 3
      },
      "file_extension": ".py",
      "mimetype": "text/x-python",
      "name": "python",
      "nbconvert_exporter": "python",
      "pygments_lexer": "ipython3",
      "version": "3.8"
    }
  },
  "nbformat_minor": 5,
  "nbformat": 4,
  "cells": [
    {
      "id": "fb439bb3-beaf-4ebf-8666-b295f0e50487",
      "cell_type": "markdown",
      "source": "# Structures of Networks - workgroup session 1",
      "metadata": {}
    },
    {
      "id": "9f422fc9-cebb-4eab-b6ad-a2de0ed293e4",
      "cell_type": "markdown",
      "source": "## 1.a. \n\nThe structure of this network follows that of the associated problem sheet.\nCode blocks (cells) already available for (sub)problems that involve coding, but you can always add more.\nSome of these code blocks contain coding-related tips, in the form of comments.",
      "metadata": {}
    },
    {
      "id": "631d61be-dfaf-4afe-87d8-718f729bd514",
      "cell_type": "markdown",
      "source": "## 1.b.",
      "metadata": {
        "jp-MarkdownHeadingCollapsed": true
      }
    },
    {
      "id": "72a26b1a-373d-4e37-ab5e-ecb65e5850e9",
      "cell_type": "code",
      "source": "import networkx as nx\nimport random as rn\nrn.seed(9)\n\nG1 = nx.erdos_renyi_graph(10, 0.4, 2, False)\nG2 = nx.erdos_renyi_graph(20, 0.1, 4, False)\nG = nx.union(G1, G2, rename=(\"1\", \"2\"))\nG = nx.convert_node_labels_to_integers(G)\n\nids = rn.sample(list(range(1000)),len(list(G.nodes)))\n\nmapping = {}\n\ni=0\nfor x in (list(G.nodes)):\n    mapping.update({x: ids[i]})\n    i=i+1\n\nG = nx.relabel_nodes(G, mapping)\n\nadjacency = {}\n\nfor i in ids:\n    adjacency.update({i: list(G.neighbors(i))})\n\ndef friends(node_id):\n    node_adjacency = adjacency.get(node_id)\n    if node_adjacency != None:\n        return \"the friends of \" + str(node_id) + \" are: \" + str(node_adjacency)[1:-1]\n    else:\n        return str(node_id) + \" does not exist\"\n\nprint(\"relevant functionality available; you may close and proceed with further points\")",
      "metadata": {
        "trusted": true
      },
      "outputs": [],
      "execution_count": 14
    },
    {
      "id": "49e9bbad-891c-4e1e-a71e-2d23b8ea8f1d",
      "cell_type": "markdown",
      "source": "## 1.c.",
      "metadata": {
        "jp-MarkdownHeadingCollapsed": true
      }
    },
    {
      "id": "4100048e-ddb7-4980-ad05-55082a55be29",
      "cell_type": "code",
      "source": "# examples of invoking the friends() function:\n\n#print(friends(173))\n#print(friends(174))\n",
      "metadata": {
        "trusted": true
      },
      "outputs": [],
      "execution_count": 13
    },
    {
      "id": "d8fd3a0d-4c5e-4002-b385-539816644414",
      "cell_type": "markdown",
      "source": "## 1.d.",
      "metadata": {
        "jp-MarkdownHeadingCollapsed": true
      }
    },
    {
      "id": "41578f83-29f0-49f5-b6e7-add55c864ea3",
      "cell_type": "code",
      "source": "",
      "metadata": {
        "trusted": true
      },
      "outputs": [],
      "execution_count": null
    },
    {
      "id": "b258228b-b772-4624-932f-8861de037c03",
      "cell_type": "markdown",
      "source": "## 1.e.",
      "metadata": {
        "jp-MarkdownHeadingCollapsed": true
      }
    },
    {
      "id": "157ad743-1b6b-4fb1-a55d-12ef67b3096b",
      "cell_type": "code",
      "source": "",
      "metadata": {
        "trusted": true
      },
      "outputs": [],
      "execution_count": null
    },
    {
      "id": "8ee95244-ed62-4537-a052-a1857d14a56a",
      "cell_type": "markdown",
      "source": "## 2.a.",
      "metadata": {
        "jp-MarkdownHeadingCollapsed": true
      }
    },
    {
      "id": "8e73b808-854d-4269-9ff5-0137528fe01c",
      "cell_type": "code",
      "source": "# line of code that helps you extract the list of friends of 919 from the string that the friends() function provides:\n# [int(x) for x in (((friends(919)).split(\": \"))[1]).split(\", \")]",
      "metadata": {
        "trusted": true
      },
      "outputs": [],
      "execution_count": 16
    }
  ]
}