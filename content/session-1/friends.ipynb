{
  "metadata": {
    "kernelspec": {
      "name": "python",
      "display_name": "Python (Pyodide)",
      "language": "python"
    },
    "language_info": {
      "codemirror_mode": {
        "name": "python",
        "version": 3
      },
      "file_extension": ".py",
      "mimetype": "text/x-python",
      "name": "python",
      "nbconvert_exporter": "python",
      "pygments_lexer": "ipython3",
      "version": "3.8"
    }
  },
  "nbformat_minor": 5,
  "nbformat": 4,
  "cells": [
    {
      "id": "631d61be-dfaf-4afe-87d8-718f729bd514",
      "cell_type": "markdown",
      "source": "## You should first run the code in the following, enclosed block, without modifying or thinking about it",
      "metadata": {
        "jp-MarkdownHeadingCollapsed": true
      }
    },
    {
      "id": "72a26b1a-373d-4e37-ab5e-ecb65e5850e9",
      "cell_type": "code",
      "source": "import networkx as nx\nimport random as rn\nrn.seed(9)\n\nG1 = nx.erdos_renyi_graph(10, 0.4, 2, False)\nG2 = nx.erdos_renyi_graph(20, 0.1, 4, False)\nG = nx.union(G1, G2, rename=(\"1\", \"2\"))\nG = nx.convert_node_labels_to_integers(G)\n\nids = rn.sample(list(range(1000)),len(list(G.nodes)))\n\nmapping = {}\n\ni=0\nfor x in (list(G.nodes)):\n    mapping.update({x: ids[i]})\n    i=i+1\n\nG = nx.relabel_nodes(G, mapping)\n\nadjacency = {}\n\nfor i in ids:\n    adjacency.update({i: list(G.neighbors(i))})\n\ndef friends(node_id):\n    node_adjacency = adjacency.get(node_id)\n    if node_adjacency != None:\n        return \"the friends of \" + str(node_id) + \" are: \" + str(node_adjacency)[1:-1]\n    else:\n        return str(node_id) + \" does not exist\"\n",
      "metadata": {
        "trusted": true
      },
      "outputs": [],
      "execution_count": 4
    },
    {
      "id": "49e9bbad-891c-4e1e-a71e-2d23b8ea8f1d",
      "cell_type": "markdown",
      "source": "## You should then write and run your own code in the following block(s)",
      "metadata": {}
    },
    {
      "id": "4100048e-ddb7-4980-ad05-55082a55be29",
      "cell_type": "code",
      "source": "\n\n",
      "metadata": {
        "trusted": true
      },
      "outputs": [],
      "execution_count": null
    }
  ]
}